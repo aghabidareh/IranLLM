{
 "cells": [
  {
   "cell_type": "code",
   "execution_count": 1,
   "id": "24de928f-d07c-4bce-bf51-80c03739fc8c",
   "metadata": {},
   "outputs": [
    {
     "name": "stdout",
     "output_type": "stream",
     "text": [
      "861126\n"
     ]
    }
   ],
   "source": [
    "with open('Iran.txt', 'r', encoding='utf-8') as f:\n",
    "    text = f.read()\n",
    "\n",
    "print(len(text))"
   ]
  },
  {
   "cell_type": "code",
   "execution_count": 2,
   "id": "cee7dc4b-b8d9-4bf1-bce5-cf3c7e80e6e2",
   "metadata": {},
   "outputs": [
    {
     "name": "stdout",
     "output_type": "stream",
     "text": [
      "﻿The Project Gutenberg eBook of The Persian Literature, Comprising The Shah Nameh, The Rubaiyat, The Divan, and The Gulistan, Volume 1\n",
      "    \n",
      "This ebook is for the use of anyone anywhere in the United S\n"
     ]
    }
   ],
   "source": [
    "print(text[:200])"
   ]
  },
  {
   "cell_type": "code",
   "execution_count": 3,
   "id": "6b143923-f276-4f7e-9228-6571dcae4001",
   "metadata": {},
   "outputs": [
    {
     "name": "stdout",
     "output_type": "stream",
     "text": [
      "['\\n', ' ', '!', '\"', '#', '$', '%', \"'\", '(', ')', '*', ',', '-', '.', '/', '0', '1', '2', '3', '4', '5', '6', '7', '8', '9', ':', ';', '=', '?', 'A', 'B', 'C', 'D', 'E', 'F', 'G', 'H', 'I', 'J', 'K', 'L', 'M', 'N', 'O', 'P', 'Q', 'R', 'S', 'T', 'U', 'V', 'W', 'X', 'Y', 'Z', '[', ']', '_', 'a', 'b', 'c', 'd', 'e', 'f', 'g', 'h', 'i', 'j', 'k', 'l', 'm', 'n', 'o', 'p', 'q', 'r', 's', 't', 'u', 'v', 'w', 'x', 'y', 'z', 'Á', 'Í', 'Ú', 'à', 'á', 'â', 'ä', 'è', 'é', 'ê', 'í', 'ï', 'ó', 'ú', 'ü', '—', '‘', '’', '“', '”', '•', '™', '\\ufeff']\n"
     ]
    }
   ],
   "source": [
    "chars = sorted(set(text))\n",
    "print(chars)"
   ]
  },
  {
   "cell_type": "code",
   "execution_count": 4,
   "id": "5bfccdf1-0705-43a3-ae84-3809ef9fd8f9",
   "metadata": {},
   "outputs": [
    {
     "name": "stdout",
     "output_type": "stream",
     "text": [
      "107\n"
     ]
    }
   ],
   "source": [
    "print(len(chars))"
   ]
  },
  {
   "cell_type": "code",
   "execution_count": 9,
   "id": "4f04a162-3a21-48e8-ae31-6f7ee8db95b6",
   "metadata": {},
   "outputs": [
    {
     "name": "stdout",
     "output_type": "stream",
     "text": [
      "a\n"
     ]
    }
   ],
   "source": [
    "print(chars[58])"
   ]
  },
  {
   "cell_type": "code",
   "execution_count": 19,
   "id": "8fe6f596-a949-46f1-ae4c-4ff65dcebc6e",
   "metadata": {},
   "outputs": [],
   "source": [
    "def encode(string) -> list:\n",
    "    return [string_to_int[c] for c in string]\n",
    "\n",
    "def decode(l) -> str:\n",
    "    return ''.join([int_to_string[s] for s in l])"
   ]
  },
  {
   "cell_type": "code",
   "execution_count": 20,
   "id": "bf69b5cf-a3d9-4e57-860a-ee171568bd26",
   "metadata": {},
   "outputs": [
    {
     "name": "stdout",
     "output_type": "stream",
     "text": [
      "encoded one: [58, 64, 65, 58, 59, 66, 61, 58, 75, 62, 65]\n",
      "decoded that: aghabidareh\n"
     ]
    }
   ],
   "source": [
    "string_to_int = {ch:i for i, ch in enumerate(chars)}\n",
    "int_to_string = {i:ch for i, ch in enumerate(chars)}\n",
    "\n",
    "# print(encode('aghabidareh'))\n",
    "encoded_aghabidareh = encode('aghabidareh')\n",
    "decoded_aghabidareh = decode(encoded_aghabidareh)\n",
    "print(f'encoded one: {encoded_aghabidareh}')\n",
    "print(f'decoded that: {decoded_aghabidareh}')"
   ]
  }
 ],
 "metadata": {
  "kernelspec": {
   "display_name": "Python 3 (ipykernel)",
   "language": "python",
   "name": "python3"
  },
  "language_info": {
   "codemirror_mode": {
    "name": "ipython",
    "version": 3
   },
   "file_extension": ".py",
   "mimetype": "text/x-python",
   "name": "python",
   "nbconvert_exporter": "python",
   "pygments_lexer": "ipython3",
   "version": "3.12.7"
  }
 },
 "nbformat": 4,
 "nbformat_minor": 5
}
