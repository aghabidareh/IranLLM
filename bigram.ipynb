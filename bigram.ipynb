{
 "cells": [
  {
   "cell_type": "code",
   "execution_count": 21,
   "id": "e44fce22-310f-4768-932d-00757b9229db",
   "metadata": {},
   "outputs": [],
   "source": [
    "import torch"
   ]
  },
  {
   "cell_type": "code",
   "execution_count": 22,
   "id": "24de928f-d07c-4bce-bf51-80c03739fc8c",
   "metadata": {},
   "outputs": [],
   "source": [
    "with open('Iran.txt', 'r', encoding='utf-8') as f:\n",
    "    text = f.read()\n",
    "\n",
    "chars = sorted(set(text))\n",
    "vocabulary_size = len(chars)"
   ]
  },
  {
   "cell_type": "code",
   "execution_count": 23,
   "id": "8fe6f596-a949-46f1-ae4c-4ff65dcebc6e",
   "metadata": {},
   "outputs": [],
   "source": [
    "def encode(string) -> list:\n",
    "    return [string_to_int[c] for c in string]\n",
    "\n",
    "def decode(l) -> str:\n",
    "    return ''.join([int_to_string[s] for s in l])"
   ]
  },
  {
   "cell_type": "code",
   "execution_count": 24,
   "id": "bf69b5cf-a3d9-4e57-860a-ee171568bd26",
   "metadata": {},
   "outputs": [
    {
     "name": "stdout",
     "output_type": "stream",
     "text": [
      "tensor([106,  48,  65,  62,   1,  44,  75,  72,  67,  62,  60,  77,   1,  35,\n",
      "         78,  77,  62,  71,  59,  62,  75,  64,   1,  62,  30,  72,  72,  68,\n",
      "          1,  72,  63,   1,  48,  65,  62,   1,  44,  62,  75,  76,  66,  58,\n",
      "         71,   1,  40,  66,  77,  62,  75,  58,  77,  78,  75,  62,  11,   1,\n",
      "         31,  72,  70,  73,  75,  66,  76,  66,  71,  64,   1,  48,  65,  62,\n",
      "          1,  47,  65,  58,  65,   1,  42,  58,  70,  62,  65,  11,   1,  48,\n",
      "         65,  62,   1,  46,  78,  59,  58,  66,  82,  58,  77,  11,   1,  48,\n",
      "         65,  62])\n"
     ]
    }
   ],
   "source": [
    "string_to_int = {ch:i for i, ch in enumerate(chars)}\n",
    "int_to_string = {i:ch for i, ch in enumerate(chars)}\n",
    "\n",
    "data = torch.tensor(encode(text), dtype=torch.long)\n",
    "print(data[:100])"
   ]
  },
  {
   "cell_type": "code",
   "execution_count": 25,
   "id": "5f4b40e3-7b2f-424c-a544-a8351b488ed0",
   "metadata": {},
   "outputs": [],
   "source": [
    "n = int(0.8 * len(data))\n",
    "train_data = data[:n]\n",
    "val_data = data[n:]"
   ]
  },
  {
   "cell_type": "code",
   "execution_count": null,
   "id": "e1855d9b-7b23-48e4-9120-48a508239b54",
   "metadata": {},
   "outputs": [],
   "source": []
  }
 ],
 "metadata": {
  "kernelspec": {
   "display_name": "Python 3 (ipykernel)",
   "language": "python",
   "name": "python3"
  },
  "language_info": {
   "codemirror_mode": {
    "name": "ipython",
    "version": 3
   },
   "file_extension": ".py",
   "mimetype": "text/x-python",
   "name": "python",
   "nbconvert_exporter": "python",
   "pygments_lexer": "ipython3",
   "version": "3.12.7"
  }
 },
 "nbformat": 4,
 "nbformat_minor": 5
}
